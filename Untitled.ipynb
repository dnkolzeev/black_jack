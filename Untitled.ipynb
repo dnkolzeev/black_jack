{
 "cells": [
  {
   "cell_type": "code",
   "execution_count": 5,
   "id": "212e8eba",
   "metadata": {},
   "outputs": [],
   "source": [
    "import requests\n",
    "import json\n",
    "\n",
    "def get_deck():\n",
    "    deck = json.loads(requests.post('https://deckofcardsapi.com/api/deck/new/shuffle/?deck_count=1').text)['deck_id']\n",
    "    return deck"
   ]
  },
  {
   "cell_type": "code",
   "execution_count": 6,
   "id": "34852cb4",
   "metadata": {},
   "outputs": [
    {
     "data": {
      "text/plain": [
       "'xqbduxnq1xrs'"
      ]
     },
     "execution_count": 6,
     "metadata": {},
     "output_type": "execute_result"
    }
   ],
   "source": [
    "get_deck()"
   ]
  },
  {
   "cell_type": "code",
   "execution_count": 44,
   "id": "c310e826",
   "metadata": {},
   "outputs": [],
   "source": [
    "def draw_cards(count):\n",
    "    cards = json.loads(requests.get(f'https://deckofcardsapi.com/api/deck/xqbduxnq1xrs/draw/?count={count}').text)\n",
    "    return cards"
   ]
  },
  {
   "cell_type": "code",
   "execution_count": 50,
   "id": "9df9b98a",
   "metadata": {},
   "outputs": [
    {
     "data": {
      "text/plain": [
       "'9CLUBS'"
      ]
     },
     "execution_count": 50,
     "metadata": {},
     "output_type": "execute_result"
    }
   ],
   "source": [
    "draw_cards(count = 3)['cards'][2]['value'] + draw_cards(count = 3)['cards'][2]['suit']"
   ]
  }
 ],
 "metadata": {
  "kernelspec": {
   "display_name": "Python 3 (ipykernel)",
   "language": "python",
   "name": "python3"
  },
  "language_info": {
   "codemirror_mode": {
    "name": "ipython",
    "version": 3
   },
   "file_extension": ".py",
   "mimetype": "text/x-python",
   "name": "python",
   "nbconvert_exporter": "python",
   "pygments_lexer": "ipython3",
   "version": "3.9.12"
  }
 },
 "nbformat": 4,
 "nbformat_minor": 5
}
